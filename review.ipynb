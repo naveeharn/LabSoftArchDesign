{
 "cells": [
  {
   "cell_type": "markdown",
   "metadata": {},
   "source": [
    "# Basic Python"
   ]
  },
  {
   "cell_type": "code",
   "execution_count": 33,
   "metadata": {},
   "outputs": [
    {
     "name": "stdout",
     "output_type": "stream",
     "text": [
      "   *\n",
      "  ***\n",
      " *****\n",
      "*******\n",
      " *****\n",
      "  ***\n",
      "   *\n"
     ]
    }
   ],
   "source": [
    "n = int(input('enter = '))\n",
    "\n",
    "for i in range(1,n+1):\n",
    "    print(' ' * (n-i) + '*' * (i) + '*'* (i-1))\n",
    "for i in range(n-1,0,-1):\n",
    "    print(' ' * (n-i) + '*' * (i) + '*'* (i-1))"
   ]
  },
  {
   "cell_type": "markdown",
   "metadata": {},
   "source": [
    "## file system"
   ]
  },
  {
   "cell_type": "code",
   "execution_count": null,
   "metadata": {},
   "outputs": [],
   "source": [
    "try:\n",
    "    f = open('text.txt')\n",
    "    print(f.read())\n",
    "finally:\n",
    "    f.close()"
   ]
  },
  {
   "cell_type": "markdown",
   "metadata": {},
   "source": [
    "# Stack"
   ]
  },
  {
   "cell_type": "code",
   "execution_count": 11,
   "metadata": {},
   "outputs": [],
   "source": [
    "class Stack:\n",
    "    def __init__(self, list=None):\n",
    "        if not list:\n",
    "            self.items = []\n",
    "        else:\n",
    "            self.items = list\n",
    "    \n",
    "    def is_empty(self):\n",
    "        return len(self.items) == 0\n",
    "    \n",
    "    def __len__(self):\n",
    "        return len(self.items)\n",
    "    \n",
    "    def push(self, new):\n",
    "        self.items.append(new)\n",
    "    \n",
    "    def pop(self):\n",
    "        if self.is_empty():\n",
    "            return\n",
    "        return self.items.pop()\n",
    "    \n",
    "    def head(self):\n",
    "        if self.is_empty():\n",
    "            return\n",
    "        return self.items[0]\n",
    "    \n",
    "    def tail(self):\n",
    "        if self.is_empty():\n",
    "            return\n",
    "        return self.items[-1]\n",
    "    \n",
    "    def size(self):\n",
    "        return len(self.items)\n",
    "    \n",
    "    def delete(self, item):\n",
    "        if self.is_empty() and item not in self.items:\n",
    "            return\n",
    "        while item in self.items:\n",
    "            self.items.pop(self.items.index(item))\n",
    "    \n",
    "    def __str__(self) -> str:\n",
    "        return str(self.items)"
   ]
  },
  {
   "cell_type": "code",
   "execution_count": 23,
   "metadata": {},
   "outputs": [
    {
     "name": "stdout",
     "output_type": "stream",
     "text": [
      "11\n",
      "8 ['w', 's', 's', 'e', 'r', 't', 'y', 'u']\n"
     ]
    }
   ],
   "source": [
    "stack = Stack()\n",
    "for i in list('qqqwssertyu'):\n",
    "    stack.push(i)\n",
    "print(len(stack))\n",
    "stack.delete('q')\n",
    "print(len(stack), stack)"
   ]
  },
  {
   "cell_type": "markdown",
   "metadata": {},
   "source": [
    "# Queue"
   ]
  },
  {
   "cell_type": "code",
   "execution_count": 40,
   "metadata": {},
   "outputs": [],
   "source": [
    "class Queue:\n",
    "    def __init__(self, list):\n",
    "        if not list:\n",
    "            self.items = []\n",
    "        else:\n",
    "            self.items = list\n",
    "    \n",
    "    def size(self):\n",
    "        return len(self.items)\n",
    "    \n",
    "    def is_empty(self):\n",
    "        return self.size() == 0\n",
    "    \n",
    "    def enqueue(self, item):\n",
    "        self.items.append(item)\n",
    "    \n",
    "    def dequeue(self):\n",
    "        if self.is_empty():\n",
    "            return\n",
    "        return self.items.pop(0)\n",
    "    \n",
    "    def head(self):\n",
    "        if self.is_empty():\n",
    "            return\n",
    "        return self.items[0]\n",
    "    \n",
    "    def tail(self):\n",
    "        if self.is_empty():\n",
    "            return\n",
    "        return self.items[-1]\n",
    "    \n",
    "    def __str__(self):\n",
    "        return str(self.items)"
   ]
  },
  {
   "cell_type": "code",
   "execution_count": 39,
   "metadata": {},
   "outputs": [
    {
     "name": "stdout",
     "output_type": "stream",
     "text": [
      "['q', 'w', 'e', 'r', 't', 'q', 'w', 'e', 'r', 't']\n"
     ]
    }
   ],
   "source": [
    "queue = Queue(list('qwertqwert'))\n",
    "print(queue)"
   ]
  },
  {
   "cell_type": "markdown",
   "metadata": {},
   "source": [
    "# LinkedList"
   ]
  },
  {
   "cell_type": "markdown",
   "metadata": {},
   "source": [
    "## Singly LinkedList"
   ]
  },
  {
   "cell_type": "code",
   "execution_count": 41,
   "metadata": {},
   "outputs": [],
   "source": [
    "class Node:\n",
    "    def __init__(self, item):\n",
    "        self.item = item\n",
    "        self.next = None"
   ]
  },
  {
   "cell_type": "code",
   "execution_count": 44,
   "metadata": {},
   "outputs": [],
   "source": [
    "class LinkedList:\n",
    "    def __init__(self, ):\n",
    "        self.head = None\n",
    "        self.tail = self.head\n",
    "\n",
    "    def append(self, item):\n",
    "        new_node = Node(item)\n",
    "        if not self.head:\n",
    "            self.head = new_node\n",
    "            self.tail = new_node\n",
    "        else:\n",
    "            current = self.tail\n",
    "            current.next = new_node\n",
    "            self.tail = new_node\n",
    "    \n",
    "    def elements(self):\n",
    "        items = []\n",
    "        current = self.head\n",
    "        while current:\n",
    "            items.append(current.item)\n",
    "            current = current.next\n",
    "        print(items)\n",
    "        return items\n",
    "    \n",
    "    def size(self):\n",
    "        return len(self.elements())"
   ]
  },
  {
   "cell_type": "code",
   "execution_count": 45,
   "metadata": {},
   "outputs": [
    {
     "name": "stdout",
     "output_type": "stream",
     "text": [
      "[1, 2, 3, 4, 5, 6]\n",
      "[1, 2, 3, 4, 5, 6]\n",
      "6\n"
     ]
    }
   ],
   "source": [
    "l = LinkedList()\n",
    "for i in [1,2,3,4,5,6]:\n",
    "    l.append(i)\n",
    "l.elements()\n",
    "print(l.size())"
   ]
  },
  {
   "cell_type": "markdown",
   "metadata": {},
   "source": [
    "## Doubly LinkedList"
   ]
  },
  {
   "cell_type": "code",
   "execution_count": 58,
   "metadata": {},
   "outputs": [],
   "source": [
    "class DNode:\n",
    "    def __init__(self, item):\n",
    "        self.item = item\n",
    "        self.prev : DNode = None\n",
    "        self.next : DNode = None"
   ]
  },
  {
   "cell_type": "code",
   "execution_count": 153,
   "metadata": {},
   "outputs": [],
   "source": [
    "class DoublyLinkedList:\n",
    "    def __init__(self):\n",
    "        self.head : DNode = DNode('HEAD')\n",
    "        self.tail : DNode = DNode('TAIL')\n",
    "        self.head.next = self.tail\n",
    "        self.tail.prev = self.head\n",
    "    \n",
    "    def append(self, item):\n",
    "        new_node = DNode(item)\n",
    "        back = self.tail\n",
    "        front = self.tail.prev\n",
    "        new_node.next = back\n",
    "        new_node.prev = front\n",
    "        front.next = new_node\n",
    "        back.prev = new_node\n",
    "        \n",
    "    def insert(self, item, index):\n",
    "        index = int(index)\n",
    "        if index < 0 or index > self.size():\n",
    "            return\n",
    "        if self.head.next.item == 'TAIL':\n",
    "            self.append(item)\n",
    "        else:\n",
    "            new_node = DNode(item)\n",
    "            current = self.head.next\n",
    "            current_index = 0\n",
    "            while current and current_index < index:\n",
    "                current = current.next\n",
    "                current_index += 1\n",
    "            back = current\n",
    "            front = current.prev\n",
    "            new_node.next = back\n",
    "            new_node.prev = front\n",
    "            front.next = new_node\n",
    "            back.prev = new_node\n",
    "    \n",
    "    def remove(self, item):\n",
    "        current = self.head.next\n",
    "        while current and current.item != 'TAIL':\n",
    "            if current.item == item:\n",
    "                back = current.next\n",
    "                front = current.prev\n",
    "                # current.next = None\n",
    "                # current.prev = None\n",
    "                # del current\n",
    "                front.next = back\n",
    "                back.prev = front\n",
    "                node = current\n",
    "                node.next = None\n",
    "                node.prev = None\n",
    "                del node\n",
    "            current = current.next\n",
    "\n",
    "    def elements(self):\n",
    "        current = self.head\n",
    "        items = []\n",
    "        while current:\n",
    "            if current.item != 'HEAD' and current.item != 'TAIL':\n",
    "                items.append(current)\n",
    "            current = current.next\n",
    "        return items\n",
    "    \n",
    "    def __str__(self) -> str:\n",
    "        return ' <-> '.join([str(i.item)for i in self.elements()])\n",
    "    \n",
    "    def size(self):\n",
    "        return len(self.elements())\n",
    "    \n",
    "    def is_empty(self):\n",
    "        return self.size() == 0"
   ]
  },
  {
   "cell_type": "code",
   "execution_count": 154,
   "metadata": {},
   "outputs": [
    {
     "name": "stdout",
     "output_type": "stream",
     "text": [
      "9 <-> q <-> w <-> q <-> w <-> e <-> r <-> t <-> e <-> r <-> t\n",
      "9 <-> q <-> w <-> q <-> w <-> 6 <-> e <-> r <-> t <-> e <-> r <-> t\n",
      "9 <-> q <-> q <-> w <-> 6 <-> e <-> r <-> t <-> e <-> r <-> t\n"
     ]
    }
   ],
   "source": [
    "d = DoublyLinkedList()\n",
    "d.insert(9, 0)\n",
    "for i in list('qwqwertert'):\n",
    "    d.append(i)\n",
    "print(d)\n",
    "d.insert(6, 5)\n",
    "print(d)\n",
    "d.remove('w')\n",
    "print(d)\n",
    "\n"
   ]
  }
 ],
 "metadata": {
  "kernelspec": {
   "display_name": "Python 3.10.6 64-bit",
   "language": "python",
   "name": "python3"
  },
  "language_info": {
   "codemirror_mode": {
    "name": "ipython",
    "version": 3
   },
   "file_extension": ".py",
   "mimetype": "text/x-python",
   "name": "python",
   "nbconvert_exporter": "python",
   "pygments_lexer": "ipython3",
   "version": "3.10.6"
  },
  "orig_nbformat": 4,
  "vscode": {
   "interpreter": {
    "hash": "949777d72b0d2535278d3dc13498b2535136f6dfe0678499012e853ee9abcab1"
   }
  }
 },
 "nbformat": 4,
 "nbformat_minor": 2
}
